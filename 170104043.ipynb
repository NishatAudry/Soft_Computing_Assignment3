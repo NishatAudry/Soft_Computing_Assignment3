{
  "nbformat": 4,
  "nbformat_minor": 0,
  "metadata": {
    "accelerator": "GPU",
    "colab": {
      "name": "170104043.ipynb",
      "provenance": []
    },
    "kernelspec": {
      "display_name": "Python 3",
      "language": "python",
      "name": "python3"
    },
    "language_info": {
      "codemirror_mode": {
        "name": "ipython",
        "version": 3
      },
      "file_extension": ".py",
      "mimetype": "text/x-python",
      "name": "python",
      "nbconvert_exporter": "python",
      "pygments_lexer": "ipython3",
      "version": "3.8.3"
    }
  },
  "cells": [
    {
      "cell_type": "code",
      "metadata": {
        "colab": {
          "base_uri": "https://localhost:8080/"
        },
        "id": "N-Oh4onFlk5j",
        "outputId": "9850205b-fe56-4cc9-f01f-e1babb11742b"
      },
      "source": [
        "from google.colab import drive\n",
        "drive.mount('/content/drive')"
      ],
      "execution_count": 1,
      "outputs": [
        {
          "output_type": "stream",
          "name": "stdout",
          "text": [
            "Mounted at /content/drive\n"
          ]
        }
      ]
    },
    {
      "cell_type": "code",
      "metadata": {
        "id": "crNbVgtDXiqq"
      },
      "source": [
        "import pandas as pd"
      ],
      "execution_count": 2,
      "outputs": []
    },
    {
      "cell_type": "code",
      "metadata": {
        "id": "l6YemjLtaFP3"
      },
      "source": [
        "dataset=pd.read_csv('/content/drive/MyDrive/Dataset/Dataset 2.csv',encoding='ISO-8859-1')"
      ],
      "execution_count": 3,
      "outputs": []
    },
    {
      "cell_type": "code",
      "metadata": {
        "colab": {
          "base_uri": "https://localhost:8080/",
          "height": 414
        },
        "id": "kYhQzDZ551VV",
        "outputId": "91617d95-40f3-4463-fe52-0d6bd5c219dc"
      },
      "source": [
        "dataset"
      ],
      "execution_count": 4,
      "outputs": [
        {
          "output_type": "execute_result",
          "data": {
            "text/html": [
              "<div>\n",
              "<style scoped>\n",
              "    .dataframe tbody tr th:only-of-type {\n",
              "        vertical-align: middle;\n",
              "    }\n",
              "\n",
              "    .dataframe tbody tr th {\n",
              "        vertical-align: top;\n",
              "    }\n",
              "\n",
              "    .dataframe thead th {\n",
              "        text-align: right;\n",
              "    }\n",
              "</style>\n",
              "<table border=\"1\" class=\"dataframe\">\n",
              "  <thead>\n",
              "    <tr style=\"text-align: right;\">\n",
              "      <th></th>\n",
              "      <th>text</th>\n",
              "      <th>polarity</th>\n",
              "    </tr>\n",
              "  </thead>\n",
              "  <tbody>\n",
              "    <tr>\n",
              "      <th>0</th>\n",
              "      <td>just had a real good moment. i missssssssss hi...</td>\n",
              "      <td>0</td>\n",
              "    </tr>\n",
              "    <tr>\n",
              "      <th>1</th>\n",
              "      <td>is reading manga  http://plurk.com/p/mzp1e</td>\n",
              "      <td>0</td>\n",
              "    </tr>\n",
              "    <tr>\n",
              "      <th>2</th>\n",
              "      <td>@comeagainjen http://twitpic.com/2y2lx - http:...</td>\n",
              "      <td>0</td>\n",
              "    </tr>\n",
              "    <tr>\n",
              "      <th>3</th>\n",
              "      <td>@lapcat Need to send 'em to my accountant tomo...</td>\n",
              "      <td>0</td>\n",
              "    </tr>\n",
              "    <tr>\n",
              "      <th>4</th>\n",
              "      <td>ADD ME ON MYSPACE!!!  myspace.com/LookThunder</td>\n",
              "      <td>0</td>\n",
              "    </tr>\n",
              "    <tr>\n",
              "      <th>...</th>\n",
              "      <td>...</td>\n",
              "      <td>...</td>\n",
              "    </tr>\n",
              "    <tr>\n",
              "      <th>10309</th>\n",
              "      <td>No Depression by G Herbo is my mood from now o...</td>\n",
              "      <td>1</td>\n",
              "    </tr>\n",
              "    <tr>\n",
              "      <th>10310</th>\n",
              "      <td>What do you do when depression succumbs the br...</td>\n",
              "      <td>1</td>\n",
              "    </tr>\n",
              "    <tr>\n",
              "      <th>10311</th>\n",
              "      <td>Ketamine Nasal Spray Shows Promise Against Dep...</td>\n",
              "      <td>1</td>\n",
              "    </tr>\n",
              "    <tr>\n",
              "      <th>10312</th>\n",
              "      <td>dont mistake a bad day with depression! everyo...</td>\n",
              "      <td>1</td>\n",
              "    </tr>\n",
              "    <tr>\n",
              "      <th>10313</th>\n",
              "      <td>0</td>\n",
              "      <td>1</td>\n",
              "    </tr>\n",
              "  </tbody>\n",
              "</table>\n",
              "<p>10314 rows × 2 columns</p>\n",
              "</div>"
            ],
            "text/plain": [
              "                                                    text  polarity\n",
              "0      just had a real good moment. i missssssssss hi...         0\n",
              "1             is reading manga  http://plurk.com/p/mzp1e         0\n",
              "2      @comeagainjen http://twitpic.com/2y2lx - http:...         0\n",
              "3      @lapcat Need to send 'em to my accountant tomo...         0\n",
              "4          ADD ME ON MYSPACE!!!  myspace.com/LookThunder         0\n",
              "...                                                  ...       ...\n",
              "10309  No Depression by G Herbo is my mood from now o...         1\n",
              "10310  What do you do when depression succumbs the br...         1\n",
              "10311  Ketamine Nasal Spray Shows Promise Against Dep...         1\n",
              "10312  dont mistake a bad day with depression! everyo...         1\n",
              "10313                                                  0         1\n",
              "\n",
              "[10314 rows x 2 columns]"
            ]
          },
          "metadata": {},
          "execution_count": 4
        }
      ]
    },
    {
      "cell_type": "code",
      "metadata": {
        "id": "oBatEwueZjep"
      },
      "source": [
        "import torch   \n",
        "\n",
        "#handling text data\n",
        "from torchtext.legacy import data  "
      ],
      "execution_count": 5,
      "outputs": []
    },
    {
      "cell_type": "code",
      "metadata": {
        "id": "CAqRIZygG3QB"
      },
      "source": [
        "import re\n",
        "def remove(text):\n",
        "    return re.sub(r\"[,.\\\"!@#$%^&*(){}?/;`~:<>+=-]\", \"\", text)\n"
      ],
      "execution_count": 6,
      "outputs": []
    },
    {
      "cell_type": "code",
      "metadata": {
        "id": "SLiEwNCJGuL7"
      },
      "source": [
        "dataset['text'] = dataset['text'].apply(lambda x: remove(x))\n"
      ],
      "execution_count": 7,
      "outputs": []
    },
    {
      "cell_type": "code",
      "metadata": {
        "id": "VpHkYg4N1knr"
      },
      "source": [
        "dataset"
      ],
      "execution_count": null,
      "outputs": []
    },
    {
      "cell_type": "code",
      "metadata": {
        "id": "56mHtd7Q7VTZ"
      },
      "source": [
        "dataset.drop(10313,inplace=True)"
      ],
      "execution_count": 8,
      "outputs": []
    },
    {
      "cell_type": "code",
      "metadata": {
        "id": "qQmrgS3zz3CZ"
      },
      "source": [
        "dataset"
      ],
      "execution_count": null,
      "outputs": []
    },
    {
      "cell_type": "code",
      "metadata": {
        "id": "Yll4EbCn25lL"
      },
      "source": [
        "#dataset.rename(columns = {'message':'text'}, inplace = True)"
      ],
      "execution_count": null,
      "outputs": []
    },
    {
      "cell_type": "code",
      "metadata": {
        "id": "Oh9yFJVb2_o8"
      },
      "source": [
        "#dataset\n"
      ],
      "execution_count": null,
      "outputs": []
    },
    {
      "cell_type": "code",
      "metadata": {
        "id": "qvUYMVPN6quP"
      },
      "source": [
        "dataset.drop( dataset[dataset.text.str.len() < 5].index, inplace= True) #why\n",
        "\n"
      ],
      "execution_count": 9,
      "outputs": []
    },
    {
      "cell_type": "code",
      "metadata": {
        "id": "CD4VlRBAxedJ"
      },
      "source": [
        "dataset"
      ],
      "execution_count": null,
      "outputs": []
    },
    {
      "cell_type": "code",
      "metadata": {
        "id": "a_Xr8tlL3a7S"
      },
      "source": [
        "dataset.to_csv('data.csv',index= False)"
      ],
      "execution_count": 10,
      "outputs": []
    },
    {
      "cell_type": "code",
      "metadata": {
        "id": "sZat34qC8dBp"
      },
      "source": [
        ""
      ],
      "execution_count": null,
      "outputs": []
    },
    {
      "cell_type": "code",
      "metadata": {
        "id": "2ZCrwmUy8RkJ"
      },
      "source": [
        "#keras\n",
        "import numpy\n",
        "from keras.datasets import imdb\n",
        "from keras.models import Sequential\n",
        "from keras.layers import Dense\n",
        "from keras.layers import LSTM\n",
        "from keras.layers.embeddings import Embedding\n",
        "from keras.preprocessing import sequence\n",
        "# fix random seed for reproducibility\n",
        "numpy.random.seed(7)"
      ],
      "execution_count": 11,
      "outputs": []
    },
    {
      "cell_type": "code",
      "metadata": {
        "id": "1yZhAjTd8RoI"
      },
      "source": [
        "dataset=pd.read_csv(\"data.csv\")"
      ],
      "execution_count": 12,
      "outputs": []
    },
    {
      "cell_type": "code",
      "metadata": {
        "id": "plxvdK0g8RqK"
      },
      "source": [
        "dataset"
      ],
      "execution_count": null,
      "outputs": []
    },
    {
      "cell_type": "code",
      "metadata": {
        "id": "2MxgSKIqbbAr"
      },
      "source": [
        "import tensorflow as tf"
      ],
      "execution_count": 13,
      "outputs": []
    },
    {
      "cell_type": "code",
      "metadata": {
        "id": "-iqwP8yebbDV"
      },
      "source": [
        "from tensorflow.keras.layers import Embedding\n",
        "from tensorflow.keras.preprocessing.sequence import pad_sequences\n",
        "from tensorflow.keras.models import Sequential\n",
        "from tensorflow.keras.preprocessing.text import one_hot\n",
        "from tensorflow.keras.layers import LSTM\n",
        "from tensorflow.keras.layers import Dense"
      ],
      "execution_count": 14,
      "outputs": []
    },
    {
      "cell_type": "code",
      "metadata": {
        "id": "HCZlLjULbusn"
      },
      "source": [
        "#import nltk\n",
        "#import re\n",
        "#from nltk.corpus import stopwords"
      ],
      "execution_count": null,
      "outputs": []
    },
    {
      "cell_type": "code",
      "metadata": {
        "colab": {
          "base_uri": "https://localhost:8080/"
        },
        "id": "uSL2a4xrc8k_",
        "outputId": "2e0e2bec-261c-4bac-ba78-a8ec129e9c13"
      },
      "source": [
        "import nltk\n",
        "nltk.download('stopwords')\n",
        "from nltk.corpus import stopwords\n",
        "STOPWORDS = set(stopwords.words('english'))"
      ],
      "execution_count": 15,
      "outputs": [
        {
          "output_type": "stream",
          "name": "stdout",
          "text": [
            "[nltk_data] Downloading package stopwords to /root/nltk_data...\n",
            "[nltk_data]   Unzipping corpora/stopwords.zip.\n"
          ]
        }
      ]
    },
    {
      "cell_type": "code",
      "metadata": {
        "id": "5qJs-NwCbuvj"
      },
      "source": [
        "from nltk.stem.porter import PorterStemmer\n",
        "ps = PorterStemmer()\n",
        "docs = []\n",
        "for i in range(0, len(dataset)):\n",
        "    \n",
        "    review = re.sub('[^a-zA-Z]', ' ', dataset['text'][i]) #keep only words\n",
        "    review = review.lower().split()\n",
        "    #review = review.split()\n",
        "    \n",
        "    review = [ps.stem(word) for word in review if not word in stopwords.words('english')]\n",
        "    review = \" \".join(review)\n",
        "    docs.append(review)\n",
        "    #print(review)"
      ],
      "execution_count": 16,
      "outputs": []
    },
    {
      "cell_type": "code",
      "metadata": {
        "id": "3giHEMYHeAk7"
      },
      "source": [
        "#integer encode the documents\n",
        "vocb_size=5000\n",
        "encoded_docs=[one_hot(words,vocb_size)for words in docs] \n",
        "#onehot_repr"
      ],
      "execution_count": 17,
      "outputs": []
    },
    {
      "cell_type": "code",
      "metadata": {
        "colab": {
          "base_uri": "https://localhost:8080/"
        },
        "id": "WdM0IWeCb6ML",
        "outputId": "e2e898b3-07fc-4160-a079-ee7512c14777"
      },
      "source": [
        "#pad documents to a max length of 20 words\n",
        "max_length=20\n",
        "embedded_docs=pad_sequences(encoded_docs,padding='post',maxlen=max_length)\n",
        "print(embedded_docs)"
      ],
      "execution_count": 18,
      "outputs": [
        {
          "output_type": "stream",
          "name": "stdout",
          "text": [
            "[[3678 3852 3207 ...    0    0    0]\n",
            " [3373 4745 4102 ...    0    0    0]\n",
            " [2107 3161 1064 ...    0    0    0]\n",
            " ...\n",
            " [ 658 2645 1425 ...    0    0    0]\n",
            " [   7 2312 1938 ...    0    0    0]\n",
            " [1118  169 4334 ...    0    0    0]]\n"
          ]
        }
      ]
    },
    {
      "cell_type": "code",
      "metadata": {
        "id": "yxQ8DlcIcF-x",
        "colab": {
          "base_uri": "https://localhost:8080/"
        },
        "outputId": "e40dc3e4-3880-4950-bfeb-df35af19b864"
      },
      "source": [
        "import numpy as np\n",
        "X_final=np.array(embedded_docs)\n",
        "y_final=np.array(dataset.polarity)\n",
        "X_final\n"
      ],
      "execution_count": 19,
      "outputs": [
        {
          "output_type": "execute_result",
          "data": {
            "text/plain": [
              "array([[3678, 3852, 3207, ...,    0,    0,    0],\n",
              "       [3373, 4745, 4102, ...,    0,    0,    0],\n",
              "       [2107, 3161, 1064, ...,    0,    0,    0],\n",
              "       ...,\n",
              "       [ 658, 2645, 1425, ...,    0,    0,    0],\n",
              "       [   7, 2312, 1938, ...,    0,    0,    0],\n",
              "       [1118,  169, 4334, ...,    0,    0,    0]], dtype=int32)"
            ]
          },
          "metadata": {},
          "execution_count": 19
        }
      ]
    },
    {
      "cell_type": "code",
      "metadata": {
        "id": "AUbfmUXzbqtQ",
        "colab": {
          "base_uri": "https://localhost:8080/"
        },
        "outputId": "3cbdfd42-39b1-4dc5-dd7c-cb5a21ec1567"
      },
      "source": [
        "y_final"
      ],
      "execution_count": 20,
      "outputs": [
        {
          "output_type": "execute_result",
          "data": {
            "text/plain": [
              "array([0, 0, 0, ..., 1, 1, 1])"
            ]
          },
          "metadata": {},
          "execution_count": 20
        }
      ]
    },
    {
      "cell_type": "code",
      "metadata": {
        "id": "8MCXNvxCcGB0"
      },
      "source": [
        "from sklearn.model_selection import train_test_split\n",
        "X_train, X_test, y_train, y_test = train_test_split(X_final, y_final, test_size=0.33, random_state=42)"
      ],
      "execution_count": 21,
      "outputs": []
    },
    {
      "cell_type": "code",
      "metadata": {
        "id": "m7abW8bJfJKZ"
      },
      "source": [
        "import matplotlib.pyplot as plt\n"
      ],
      "execution_count": 22,
      "outputs": []
    },
    {
      "cell_type": "code",
      "metadata": {
        "id": "SHsJ96Hejl8Z"
      },
      "source": [
        "from keras.layers import Dense\n",
        "from keras.layers import Flatten\n",
        "from keras.layers import Embedding\n",
        "from keras.layers.convolutional import Conv1D\n",
        "from keras.layers.convolutional import MaxPooling1D"
      ],
      "execution_count": 23,
      "outputs": []
    },
    {
      "cell_type": "code",
      "metadata": {
        "id": "OToehVUijNy_",
        "colab": {
          "base_uri": "https://localhost:8080/"
        },
        "outputId": "216a7733-3e2b-4855-d892-f5e8cd3841b0"
      },
      "source": [
        "# define model\n",
        "model2 = Sequential()\n",
        "model2.add(Embedding(vocb_size,40,input_length=max_length))\n",
        "model2.add(Conv1D(filters=32, kernel_size=8, activation='relu'))\n",
        "model2.add(MaxPooling1D(pool_size=2))\n",
        "model2.add(Conv1D(filters=32, kernel_size=4, activation='relu'))\n",
        "model2.add(MaxPooling1D(pool_size=2))\n",
        "model2.add(Conv1D(filters=32, kernel_size=1, activation='relu'))\n",
        "model2.add(MaxPooling1D(pool_size=1))\n",
        "model2.add(Flatten())\n",
        "model2.add(Dense(10, activation='relu'))\n",
        "model2.add(Dense(1, activation='sigmoid'))\n",
        "print(model2.summary())\n",
        "# compile network\n",
        "model2.compile(loss='binary_crossentropy', optimizer='adam', metrics=['accuracy'])"
      ],
      "execution_count": 24,
      "outputs": [
        {
          "output_type": "stream",
          "name": "stdout",
          "text": [
            "Model: \"sequential\"\n",
            "_________________________________________________________________\n",
            "Layer (type)                 Output Shape              Param #   \n",
            "=================================================================\n",
            "embedding (Embedding)        (None, 20, 40)            200000    \n",
            "_________________________________________________________________\n",
            "conv1d (Conv1D)              (None, 13, 32)            10272     \n",
            "_________________________________________________________________\n",
            "max_pooling1d (MaxPooling1D) (None, 6, 32)             0         \n",
            "_________________________________________________________________\n",
            "conv1d_1 (Conv1D)            (None, 3, 32)             4128      \n",
            "_________________________________________________________________\n",
            "max_pooling1d_1 (MaxPooling1 (None, 1, 32)             0         \n",
            "_________________________________________________________________\n",
            "conv1d_2 (Conv1D)            (None, 1, 32)             1056      \n",
            "_________________________________________________________________\n",
            "max_pooling1d_2 (MaxPooling1 (None, 1, 32)             0         \n",
            "_________________________________________________________________\n",
            "flatten (Flatten)            (None, 32)                0         \n",
            "_________________________________________________________________\n",
            "dense (Dense)                (None, 10)                330       \n",
            "_________________________________________________________________\n",
            "dense_1 (Dense)              (None, 1)                 11        \n",
            "=================================================================\n",
            "Total params: 215,797\n",
            "Trainable params: 215,797\n",
            "Non-trainable params: 0\n",
            "_________________________________________________________________\n",
            "None\n"
          ]
        }
      ]
    },
    {
      "cell_type": "code",
      "metadata": {
        "id": "rK6YtQ_RFWYg"
      },
      "source": [
        ""
      ],
      "execution_count": null,
      "outputs": []
    },
    {
      "cell_type": "code",
      "metadata": {
        "id": "c5fioLs7jN1t",
        "colab": {
          "base_uri": "https://localhost:8080/"
        },
        "outputId": "8a24d28a-d0ec-4e98-a2ec-fd91ed2c031d"
      },
      "source": [
        "history=model2.fit(X_train,y_train,validation_data=(X_test,y_test),epochs=10,batch_size=64)"
      ],
      "execution_count": 24,
      "outputs": [
        {
          "output_type": "stream",
          "name": "stdout",
          "text": [
            "Epoch 1/10\n",
            "108/108 [==============================] - 34s 13ms/step - loss: 0.4334 - accuracy: 0.8217 - val_loss: 0.1427 - val_accuracy: 0.9586\n",
            "Epoch 2/10\n",
            "108/108 [==============================] - 1s 9ms/step - loss: 0.0437 - accuracy: 0.9876 - val_loss: 0.0428 - val_accuracy: 0.9877\n",
            "Epoch 3/10\n",
            "108/108 [==============================] - 1s 9ms/step - loss: 0.0088 - accuracy: 0.9986 - val_loss: 0.0456 - val_accuracy: 0.9868\n",
            "Epoch 4/10\n",
            "108/108 [==============================] - 1s 9ms/step - loss: 0.0054 - accuracy: 0.9994 - val_loss: 0.0529 - val_accuracy: 0.9859\n",
            "Epoch 5/10\n",
            "108/108 [==============================] - 1s 8ms/step - loss: 0.0048 - accuracy: 0.9994 - val_loss: 0.0619 - val_accuracy: 0.9856\n",
            "Epoch 6/10\n",
            "108/108 [==============================] - 1s 8ms/step - loss: 0.0043 - accuracy: 0.9994 - val_loss: 0.0592 - val_accuracy: 0.9865\n",
            "Epoch 7/10\n",
            "108/108 [==============================] - 1s 8ms/step - loss: 0.0042 - accuracy: 0.9994 - val_loss: 0.0747 - val_accuracy: 0.9847\n",
            "Epoch 8/10\n",
            "108/108 [==============================] - 1s 8ms/step - loss: 0.0041 - accuracy: 0.9994 - val_loss: 0.0695 - val_accuracy: 0.9835\n",
            "Epoch 9/10\n",
            "108/108 [==============================] - 1s 9ms/step - loss: 0.0038 - accuracy: 0.9994 - val_loss: 0.0789 - val_accuracy: 0.9844\n",
            "Epoch 10/10\n",
            "108/108 [==============================] - 1s 8ms/step - loss: 0.0034 - accuracy: 0.9994 - val_loss: 0.0851 - val_accuracy: 0.9841\n"
          ]
        }
      ]
    },
    {
      "cell_type": "code",
      "metadata": {
        "id": "qo1pSoVZjN5J",
        "colab": {
          "base_uri": "https://localhost:8080/",
          "height": 638
        },
        "outputId": "55817d41-6015-47ff-aa0d-bbcc7a5fda4b"
      },
      "source": [
        "\n",
        "plt.plot(history.history['accuracy'])\n",
        "plt.plot(history.history['val_accuracy'])\n",
        "plt.title('model accuracy',fontsize=40)\n",
        "plt.ylabel('accuracy',fontsize=20)\n",
        "plt.xlabel('epoch',fontsize=20)\n",
        "plt.legend(['train', 'test'], loc='upper left')\n",
        "plt.show()\n",
        "# summarize history for loss\n",
        "plt.plot(history.history['loss'])\n",
        "plt.plot(history.history['val_loss'])\n",
        "plt.title('model loss',fontsize=40)\n",
        "plt.ylabel('loss',fontsize=20)\n",
        "plt.xlabel('epoch',fontsize=20)\n",
        "plt.legend(['train', 'test'], loc='upper left')\n",
        "plt.show()"
      ],
      "execution_count": 25,
      "outputs": [
        {
          "output_type": "display_data",
          "data": {
            "image/png": "[encoded data removed]",
            "text/plain": [
              "<Figure size 432x288 with 1 Axes>"
            ]
          },
          "metadata": {
            "needs_background": "light"
          }
        },
        {
          "output_type": "display_data",
          "data": {
            "image/png": "[encoded data removed]",
            "text/plain": [
              "<Figure size 432x288 with 1 Axes>"
            ]
          },
          "metadata": {
            "needs_background": "light"
          }
        }
      ]
    },
    {
      "cell_type": "code",
      "metadata": {
        "id": "IpE-Z0lnADaz"
      },
      "source": [
        "y_pred=np.round(model2.predict(X_test))"
      ],
      "execution_count": 26,
      "outputs": []
    },
    {
      "cell_type": "code",
      "metadata": {
        "colab": {
          "base_uri": "https://localhost:8080/"
        },
        "id": "S-QFrrKJAHC7",
        "outputId": "3c614027-7129-4c62-81f1-2fdda6d1033a"
      },
      "source": [
        "from sklearn.metrics import accuracy_score\n",
        "accuracy_score(y_test,y_pred)"
      ],
      "execution_count": 27,
      "outputs": [
        {
          "output_type": "execute_result",
          "data": {
            "text/plain": [
              "0.9841316485454011"
            ]
          },
          "metadata": {},
          "execution_count": 27
        }
      ]
    },
    {
      "cell_type": "code",
      "metadata": {
        "colab": {
          "base_uri": "https://localhost:8080/"
        },
        "id": "R5PqDUqyAINE",
        "outputId": "4f156edc-313c-4f6a-b3e7-278e83dc6be0"
      },
      "source": [
        "from sklearn.metrics import f1_score\n",
        "f1_score(y_test, y_pred, average='micro')"
      ],
      "execution_count": 28,
      "outputs": [
        {
          "output_type": "execute_result",
          "data": {
            "text/plain": [
              "0.9841316485454011"
            ]
          },
          "metadata": {},
          "execution_count": 28
        }
      ]
    },
    {
      "cell_type": "code",
      "metadata": {
        "colab": {
          "base_uri": "https://localhost:8080/"
        },
        "id": "-O56OqApAIEb",
        "outputId": "de0b8be9-e3d6-4432-8efa-faf6e9a2e590"
      },
      "source": [
        "from sklearn.metrics import precision_score\n",
        "precision_score(y_test, y_pred, average='micro')"
      ],
      "execution_count": 29,
      "outputs": [
        {
          "output_type": "execute_result",
          "data": {
            "text/plain": [
              "0.9841316485454011"
            ]
          },
          "metadata": {},
          "execution_count": 29
        }
      ]
    },
    {
      "cell_type": "code",
      "metadata": {
        "colab": {
          "base_uri": "https://localhost:8080/"
        },
        "id": "HWoy2uNlAQ4z",
        "outputId": "55af3810-3c63-4ddd-bc5a-4ca7cc62fbb8"
      },
      "source": [
        "from sklearn.metrics import confusion_matrix\n",
        "from sklearn.metrics import classification_report\n",
        "matrice = confusion_matrix(y_test,y_pred)\n",
        "matrice"
      ],
      "execution_count": 30,
      "outputs": [
        {
          "output_type": "execute_result",
          "data": {
            "text/plain": [
              "array([[2636,    3],\n",
              "       [  51,  713]])"
            ]
          },
          "metadata": {},
          "execution_count": 30
        }
      ]
    },
    {
      "cell_type": "code",
      "metadata": {
        "colab": {
          "base_uri": "https://localhost:8080/",
          "height": 545
        },
        "id": "AWWQl492AZD7",
        "outputId": "85b4c37c-fddc-47b8-98fb-5577ccd7534f"
      },
      "source": [
        "import seaborn as sn\n",
        "import pandas as pd\n",
        "df_cm = pd.DataFrame(matrice,columns=[0,1],index=[0,1])\n",
        "fig, ax = plt.subplots(figsize=(8,8))\n",
        "sn.heatmap(df_cm, annot=True,linewidths = 1,linecolor=\"Black\",annot_kws={\"size\": 20},fmt='g',cmap='Reds',)\n",
        "ax.set_xlabel('Predicted', fontsize=20)\n",
        "ax.set_ylabel('True', fontsize=20)\n",
        "plt.title(f\"Confusion matrix\",fontsize=40)\n",
        "plt.show()"
      ],
      "execution_count": 36,
      "outputs": [
        {
          "output_type": "display_data",
          "data": {
            "image/png": "[encoded data removed]",
            "text/plain": [
              "<Figure size 576x576 with 2 Axes>"
            ]
          },
          "metadata": {
            "needs_background": "light"
          }
        }
      ]
    },
    {
      "cell_type": "code",
      "metadata": {
        "colab": {
          "base_uri": "https://localhost:8080/"
        },
        "id": "6DeA6bhkAgCz",
        "outputId": "9c9f7fb1-f08f-458d-c605-82d7bd5c333f"
      },
      "source": [
        "classify_report = classification_report(y_test, y_pred, )\n",
        "print(classify_report)"
      ],
      "execution_count": 32,
      "outputs": [
        {
          "output_type": "stream",
          "name": "stdout",
          "text": [
            "              precision    recall  f1-score   support\n",
            "\n",
            "           0       0.98      1.00      0.99      2639\n",
            "           1       1.00      0.93      0.96       764\n",
            "\n",
            "    accuracy                           0.98      3403\n",
            "   macro avg       0.99      0.97      0.98      3403\n",
            "weighted avg       0.98      0.98      0.98      3403\n",
            "\n"
          ]
        }
      ]
    }
  ]
}